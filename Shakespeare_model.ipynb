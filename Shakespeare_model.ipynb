{
 "cells": [
  {
   "cell_type": "code",
   "execution_count": 9,
   "id": "1146075a",
   "metadata": {},
   "outputs": [
    {
     "name": "stdout",
     "output_type": "stream",
     "text": [
      "Loading dataset...\n",
      "Training started...\n"
     ]
    },
    {
     "name": "stderr",
     "output_type": "stream",
     "text": [
      "Epoch 1: 100%|██████████| 18156/18156 [14:44<00:00, 20.54it/s]\n"
     ]
    },
    {
     "name": "stdout",
     "output_type": "stream",
     "text": [
      "Epoch 1, Loss: 12228.2633\n"
     ]
    },
    {
     "name": "stderr",
     "output_type": "stream",
     "text": [
      "Epoch 2: 100%|██████████| 18156/18156 [16:56<00:00, 17.87it/s]\n"
     ]
    },
    {
     "name": "stdout",
     "output_type": "stream",
     "text": [
      "Epoch 2, Loss: 5227.2968\n"
     ]
    },
    {
     "name": "stderr",
     "output_type": "stream",
     "text": [
      "Epoch 3: 100%|██████████| 18156/18156 [16:53<00:00, 17.92it/s]\n"
     ]
    },
    {
     "name": "stdout",
     "output_type": "stream",
     "text": [
      "Epoch 3, Loss: 4843.5106\n"
     ]
    },
    {
     "name": "stderr",
     "output_type": "stream",
     "text": [
      "Epoch 4: 100%|██████████| 18156/18156 [17:09<00:00, 17.63it/s]\n"
     ]
    },
    {
     "name": "stdout",
     "output_type": "stream",
     "text": [
      "Epoch 4, Loss: 4671.8702\n"
     ]
    },
    {
     "name": "stderr",
     "output_type": "stream",
     "text": [
      "Epoch 5: 100%|██████████| 18156/18156 [17:42<00:00, 17.09it/s]\n"
     ]
    },
    {
     "name": "stdout",
     "output_type": "stream",
     "text": [
      "Epoch 5, Loss: 4558.4466\n"
     ]
    },
    {
     "name": "stderr",
     "output_type": "stream",
     "text": [
      "Epoch 6: 100%|██████████| 18156/18156 [16:21<00:00, 18.50it/s]\n"
     ]
    },
    {
     "name": "stdout",
     "output_type": "stream",
     "text": [
      "Epoch 6, Loss: 4469.3141\n"
     ]
    },
    {
     "name": "stderr",
     "output_type": "stream",
     "text": [
      "Epoch 7: 100%|██████████| 18156/18156 [17:07<00:00, 17.67it/s]\n"
     ]
    },
    {
     "name": "stdout",
     "output_type": "stream",
     "text": [
      "Epoch 7, Loss: 4395.1040\n"
     ]
    },
    {
     "name": "stderr",
     "output_type": "stream",
     "text": [
      "Epoch 8: 100%|██████████| 18156/18156 [16:39<00:00, 18.16it/s]\n"
     ]
    },
    {
     "name": "stdout",
     "output_type": "stream",
     "text": [
      "Epoch 8, Loss: 4327.4048\n"
     ]
    },
    {
     "name": "stderr",
     "output_type": "stream",
     "text": [
      "Epoch 9: 100%|██████████| 18156/18156 [17:26<00:00, 17.34it/s]\n"
     ]
    },
    {
     "name": "stdout",
     "output_type": "stream",
     "text": [
      "Epoch 9, Loss: 4267.2158\n"
     ]
    },
    {
     "name": "stderr",
     "output_type": "stream",
     "text": [
      "Epoch 10: 100%|██████████| 18156/18156 [17:12<00:00, 17.58it/s]"
     ]
    },
    {
     "name": "stdout",
     "output_type": "stream",
     "text": [
      "Epoch 10, Loss: 4212.9968\n",
      "✅ Model saved to 'word_level_transformer.pth'\n"
     ]
    },
    {
     "name": "stderr",
     "output_type": "stream",
     "text": [
      "\n"
     ]
    }
   ],
   "source": [
    "import torch\n",
    "import torch.nn as nn\n",
    "import torch.optim as optim\n",
    "import torch.nn.functional as F\n",
    "from torch.utils.data import DataLoader, TensorDataset\n",
    "from tqdm import tqdm\n",
    "import re\n",
    "\n",
    "# ================== Load and Preprocess Text ==================\n",
    "print(\"Loading dataset...\")\n",
    "with open(\"shakespeare_full_cleaned.txt\", \"r\", encoding=\"utf-8\") as f:\n",
    "    text_data = f.read().lower()\n",
    "\n",
    "# ================== Tokenization ==================\n",
    "words = re.findall(r\"\\b\\w+\\b|[^\\w\\s]\", text_data)\n",
    "vocab = sorted(set(words))\n",
    "word2idx = {word: idx for idx, word in enumerate(vocab)}\n",
    "idx2word = {idx: word for word, idx in word2idx.items()}\n",
    "vocab_size = len(vocab)\n",
    "\n",
    "# ================== Sequence Preparation ==================\n",
    "sequence_len = 20\n",
    "inputs, targets = [], []\n",
    "for i in range(len(words) - sequence_len):\n",
    "    inputs.append([word2idx[w] for w in words[i:i+sequence_len]])\n",
    "    targets.append([word2idx[w] for w in words[i+1:i+sequence_len+1]])\n",
    "\n",
    "input_tensor = torch.tensor(inputs, dtype=torch.long)\n",
    "target_tensor = torch.tensor(targets, dtype=torch.long)\n",
    "\n",
    "# ================== DataLoader ==================\n",
    "batch_size = 64\n",
    "dataset = TensorDataset(input_tensor, target_tensor)\n",
    "dataloader = DataLoader(dataset, batch_size=batch_size, shuffle=True)\n",
    "\n",
    "# ================== Transformer Model ==================\n",
    "from Transformer import Transformer  # Your custom model\n",
    "\n",
    "embedding_dim = 128\n",
    "device = 'mps'\n",
    "\n",
    "model = Transformer(\n",
    "    vocabulary_size=vocab_size,\n",
    "    number_of_embeddings=embedding_dim,\n",
    "    sequence_len=sequence_len,\n",
    "    input_dimensions=embedding_dim,\n",
    ").to(device)\n",
    "\n",
    "# ================== Training Setup ==================\n",
    "criterion = nn.CrossEntropyLoss()\n",
    "optimizer = optim.Adam(model.parameters(), lr=0.001)\n",
    "\n",
    "# ================== Training Loop ==================\n",
    "print(\"Training started...\")\n",
    "for epoch in range(10):\n",
    "    model.train()\n",
    "    total_loss = 0\n",
    "    for x, y in tqdm(dataloader, desc=f\"Epoch {epoch+1}\"):\n",
    "        x, y = x.to(device), y.to(device)\n",
    "        optimizer.zero_grad()\n",
    "        output = model(x)\n",
    "        loss = criterion(output.view(-1, vocab_size), y.view(-1))\n",
    "        loss.backward()\n",
    "        optimizer.step()\n",
    "        total_loss += loss.item()\n",
    "    print(f\"Epoch {epoch+1}, Loss: {total_loss:.4f}\")\n",
    "\n",
    "# ================== Save Model ==================\n",
    "torch.save(model.state_dict(), \"word_level_transformer.pth\")\n",
    "print(\"✅ Model saved to 'word_level_transformer.pth'\")"
   ]
  },
  {
   "cell_type": "code",
   "execution_count": 11,
   "id": "cf473f31",
   "metadata": {},
   "outputs": [
    {
     "name": "stdout",
     "output_type": "stream",
     "text": [
      "✅ Model loaded and ready for generation\n",
      "\n",
      "📝 Generated Text:\n",
      "birdbolt attachment perdurable took zephyrs fumblest cringe avenged housekeepers andronicus kites less travelers untie speak harnessed accursed seconded misused abundant up in this same interchange in france , and his humble suit again , his name was fair . king henry , henry i know henry , and he did you . gloucester are so . i have no more than you are ; you ; i ' ll tell\n"
     ]
    }
   ],
   "source": [
    "import torch\n",
    "import torch.nn.functional as F\n",
    "import re\n",
    "from Transformer import Transformer  # Your custom model\n",
    "\n",
    "# ======= Load Vocabulary from Dataset =======\n",
    "with open(\"shakespeare_full_cleaned.txt\", \"r\", encoding=\"utf-8\") as f:\n",
    "    text_data = f.read().lower()\n",
    "\n",
    "words = re.findall(r\"\\b\\w+\\b|[^\\w\\s]\", text_data)\n",
    "vocab = sorted(set(words))\n",
    "word2idx = {word: idx for idx, word in enumerate(vocab)}\n",
    "idx2word = {idx: word for word, idx in word2idx.items()}\n",
    "vocab_size = len(vocab)\n",
    "\n",
    "# ======= Model Setup =======\n",
    "embedding_dim = 128\n",
    "sequence_len = 20\n",
    "device = torch.device(\"cuda\" if torch.cuda.is_available() else \"cpu\")\n",
    "\n",
    "model = Transformer(\n",
    "    vocabulary_size=vocab_size,\n",
    "    number_of_embeddings=embedding_dim,\n",
    "    sequence_len=sequence_len,\n",
    "    input_dimensions=embedding_dim,\n",
    ").to(device)\n",
    "\n",
    "model.load_state_dict(torch.load(\"word_level_transformer.pth\", map_location=device))\n",
    "model.eval()\n",
    "print(\"✅ Model loaded and ready for generation\")\n",
    "\n",
    "# ======= Generation Parameters =======\n",
    "num_generate = 50\n",
    "temperature = 1.0\n",
    "top_k = 20\n",
    "\n",
    "# ======= Start from Random Context =======\n",
    "generated = [torch.randint(0, vocab_size, (1,)).item() for _ in range(sequence_len)]\n",
    "\n",
    "with torch.no_grad():\n",
    "    for _ in range(num_generate):\n",
    "        x = torch.tensor([generated[-sequence_len:]], dtype=torch.long).to(device)\n",
    "        logits = model(x)[0, -1] / temperature\n",
    "        logits, topk_indices = torch.topk(logits, top_k)\n",
    "        probs = F.softmax(logits, dim=-1)\n",
    "        next_token = topk_indices[torch.multinomial(probs, num_samples=1).item()].item()\n",
    "        generated.append(next_token)\n",
    "\n",
    "# ======= Decode and Print =======\n",
    "result = [idx2word[i] for i in generated]\n",
    "print(\"\\n📝 Generated Text:\\n\" + \" \".join(result))"
   ]
  },
  {
   "cell_type": "code",
   "execution_count": null,
   "id": "c02ede0d",
   "metadata": {},
   "outputs": [],
   "source": []
  }
 ],
 "metadata": {
  "kernelspec": {
   "display_name": "Python 3",
   "language": "python",
   "name": "python3"
  },
  "language_info": {
   "codemirror_mode": {
    "name": "ipython",
    "version": 3
   },
   "file_extension": ".py",
   "mimetype": "text/x-python",
   "name": "python",
   "nbconvert_exporter": "python",
   "pygments_lexer": "ipython3",
   "version": "3.9.6"
  }
 },
 "nbformat": 4,
 "nbformat_minor": 5
}
